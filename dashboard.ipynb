{
 "cells": [
  {
   "cell_type": "code",
   "execution_count": 13,
   "id": "meaningful-gazette",
   "metadata": {
    "execution": {
     "iopub.execute_input": "2021-05-20T23:12:16.624753Z",
     "iopub.status.busy": "2021-05-20T23:12:16.624416Z",
     "iopub.status.idle": "2021-05-20T23:12:16.632914Z",
     "shell.execute_reply": "2021-05-20T23:12:16.632221Z",
     "shell.execute_reply.started": "2021-05-20T23:12:16.624713Z"
    }
   },
   "outputs": [],
   "source": [
    "# Imports\n",
    "import pandas as pd\n",
    "\n",
    "# Dependencies (webapp)\n",
    "from ipywidgets import interact\n",
    "import ipywidgets as widgets\n",
    "from io import BytesIO\n",
    "\n",
    "import matplotlib.pyplot as plt\n",
    "import plotly.express as px"
   ]
  },
  {
   "cell_type": "markdown",
   "id": "comparable-shakespeare",
   "metadata": {},
   "source": [
    "### Upload transactions file \n",
    "Make sure the file has \"amount\" and \"currency\" columns."
   ]
  },
  {
   "cell_type": "code",
   "execution_count": 8,
   "id": "intensive-museum",
   "metadata": {
    "execution": {
     "iopub.execute_input": "2021-05-20T23:11:48.521093Z",
     "iopub.status.busy": "2021-05-20T23:11:48.520789Z",
     "iopub.status.idle": "2021-05-20T23:11:48.544653Z",
     "shell.execute_reply": "2021-05-20T23:11:48.543892Z",
     "shell.execute_reply.started": "2021-05-20T23:11:48.521060Z"
    }
   },
   "outputs": [
    {
     "data": {
      "application/vnd.jupyter.widget-view+json": {
       "model_id": "89925d5dca8a4c7cb1ad48f5a322fbb8",
       "version_major": 2,
       "version_minor": 0
      },
      "text/plain": [
       "Output()"
      ]
     },
     "metadata": {},
     "output_type": "display_data"
    },
    {
     "data": {
      "application/vnd.jupyter.widget-view+json": {
       "model_id": "17a81441d51a4bd59d2597cb65f497bb",
       "version_major": 2,
       "version_minor": 0
      },
      "text/plain": [
       "Output()"
      ]
     },
     "metadata": {},
     "output_type": "display_data"
    }
   ],
   "source": [
    "# Initialize outputs\n",
    "# Upload file and Upload button\n",
    "upload_btn_output = widgets.Output(clear_output=True)\n",
    "display(upload_btn_output)\n",
    "\n",
    "data_process_output = widgets.Output(clear_output=True)\n",
    "display(data_process_output)"
   ]
  },
  {
   "cell_type": "markdown",
   "id": "modular-mississippi",
   "metadata": {},
   "source": [
    "### Filtered Data"
   ]
  },
  {
   "cell_type": "code",
   "execution_count": 9,
   "id": "incredible-terminal",
   "metadata": {
    "execution": {
     "iopub.execute_input": "2021-05-20T23:11:48.844570Z",
     "iopub.status.busy": "2021-05-20T23:11:48.844338Z",
     "iopub.status.idle": "2021-05-20T23:11:48.860654Z",
     "shell.execute_reply": "2021-05-20T23:11:48.859960Z",
     "shell.execute_reply.started": "2021-05-20T23:11:48.844547Z"
    }
   },
   "outputs": [
    {
     "data": {
      "application/vnd.jupyter.widget-view+json": {
       "model_id": "a7bc683364a44561a2850968c1fb0c5d",
       "version_major": 2,
       "version_minor": 0
      },
      "text/plain": [
       "Output()"
      ]
     },
     "metadata": {},
     "output_type": "display_data"
    },
    {
     "data": {
      "application/vnd.jupyter.widget-view+json": {
       "model_id": "1f2ef33f951b469da9efd88f5b6ad36f",
       "version_major": 2,
       "version_minor": 0
      },
      "text/plain": [
       "Output()"
      ]
     },
     "metadata": {},
     "output_type": "display_data"
    }
   ],
   "source": [
    "#Filter Toggle Output\n",
    "filter_toggle_output = widgets.Output(clear_output=True)\n",
    "display(filter_toggle_output)\n",
    "\n",
    "#Print out filtered\n",
    "data_output = widgets.Output(clear_output=True)\n",
    "display(data_output)"
   ]
  },
  {
   "cell_type": "markdown",
   "id": "large-spectacular",
   "metadata": {},
   "source": [
    "### Bar Chart"
   ]
  },
  {
   "cell_type": "code",
   "execution_count": 10,
   "id": "classified-sixth",
   "metadata": {
    "execution": {
     "iopub.execute_input": "2021-05-20T23:11:49.870398Z",
     "iopub.status.busy": "2021-05-20T23:11:49.870166Z",
     "iopub.status.idle": "2021-05-20T23:11:49.879571Z",
     "shell.execute_reply": "2021-05-20T23:11:49.878789Z",
     "shell.execute_reply.started": "2021-05-20T23:11:49.870375Z"
    }
   },
   "outputs": [
    {
     "data": {
      "application/vnd.jupyter.widget-view+json": {
       "model_id": "d58161f719f2409d80be17f11b2b879c",
       "version_major": 2,
       "version_minor": 0
      },
      "text/plain": [
       "Output()"
      ]
     },
     "metadata": {},
     "output_type": "display_data"
    }
   ],
   "source": [
    "chart_output = widgets.Output()\n",
    "display(chart_output)"
   ]
  },
  {
   "cell_type": "code",
   "execution_count": 5,
   "id": "median-defeat",
   "metadata": {
    "execution": {
     "iopub.execute_input": "2021-05-20T23:08:34.461508Z",
     "iopub.status.busy": "2021-05-20T23:08:34.461268Z",
     "iopub.status.idle": "2021-05-20T23:08:34.492050Z",
     "shell.execute_reply": "2021-05-20T23:08:34.491360Z",
     "shell.execute_reply.started": "2021-05-20T23:08:34.461482Z"
    }
   },
   "outputs": [],
   "source": [
    "#Event handler for upload button\n",
    "global data\n",
    "\n",
    "def upload_btn_eventhandler(obj):\n",
    "\n",
    "    #Read file\n",
    "    for file_name in upload_file.value:\n",
    "        \n",
    "        #Split file name to extract data\n",
    "        extension = file_name.split('.')[1]\n",
    "        content = upload_file.value[file_name]['content']\n",
    "\n",
    "        if(extension == 'xlsx' or extension == 'xls'):\n",
    "            data = pd.read_excel(BytesIO(content))\n",
    "            \n",
    "        elif(extension == 'csv'):\n",
    "            data = pd.read_csv(BytesIO(content))\n",
    "        \n",
    "        else:\n",
    "            print(\"File not accepted\")\n",
    "            \n",
    "        # Get indexes where value is > 1000\n",
    "        data = data[data.amount < 1000]\n",
    "\n",
    "        with data_process_output:\n",
    "            print(f\"Processed a total of {len(data)} transactions.\")\n",
    "            \n",
    "    filter_data(data)\n",
    "    plot_data(data)\n",
    "    \n",
    "    return data\n",
    "\n",
    "# Buttons\n",
    "# Upload\n",
    "upload_file = widgets.FileUpload(multiple=False)\n",
    "upload_btn = widgets.Button(description=\"Upload\", icon='check', button_style='success')\n",
    "upload_btn.on_click(upload_btn_eventhandler)\n",
    "\n",
    "input_widgets = widgets.HBox([upload_file, upload_btn])\n",
    "with upload_btn_output:\n",
    "    display(input_widgets)"
   ]
  },
  {
   "cell_type": "code",
   "execution_count": 6,
   "id": "solar-platform",
   "metadata": {
    "execution": {
     "iopub.execute_input": "2021-05-20T23:08:34.906571Z",
     "iopub.status.busy": "2021-05-20T23:08:34.906342Z",
     "iopub.status.idle": "2021-05-20T23:08:34.913786Z",
     "shell.execute_reply": "2021-05-20T23:08:34.912985Z",
     "shell.execute_reply.started": "2021-05-20T23:08:34.906547Z"
    }
   },
   "outputs": [],
   "source": [
    "# Filter - Helper\n",
    "def unique_sorted_values_plus_ALL(array):\n",
    "    unique = array.unique().tolist()\n",
    "    unique = [str(x) for x in unique]\n",
    "    unique.sort()\n",
    "    unique.insert(0, ALL)\n",
    "    return unique\n",
    "\n",
    "# Filtering Pt-1\n",
    "def filter_data(data):\n",
    "    \n",
    "    # Creating Dropdowns and buttons\n",
    "    dropdown_currency = widgets.Dropdown(options=data.currency.unique(), description='Currency:')\n",
    "\n",
    "    # Event handler for dropdowns \n",
    "    def dropdown_currency_eventhandler(change):\n",
    "        common_filtering(data, change.new)\n",
    "    \n",
    "    #Call\n",
    "    dropdown_currency.observe(dropdown_currency_eventhandler, names='value')\n",
    "\n",
    "    #Layout box\n",
    "    input_widgets = widgets.HBox([dropdown_currency])\n",
    "    \n",
    "    with filter_toggle_output:\n",
    "        display(input_widgets)\n",
    "\n",
    "# Filtering Pt-2\n",
    "def common_filtering(data, currency):\n",
    "    \n",
    "    common_filter = data[(data.currency == currency)]\n",
    "        \n",
    "    with data_output:\n",
    "        display(common_filter)\n",
    "    \n",
    "    return common_filter\n",
    "\n",
    "# Bar chart\n",
    "def plot_data(data):\n",
    "    \n",
    "    data['Count'] = 1\n",
    "    plot_data = data[['amount','currency','Count']]\n",
    "    plot_data = plot_data.groupby([\"currency\"],as_index=False).Count.sum()\n",
    "    \n",
    "    with chart_output:\n",
    "        print(\"Total data: \", len(data))\n",
    "        plot_bar(plot_data, x=\"currency\", y=\"Count\", color=\"currency\")\n",
    "\n",
    "# Bar Chart helper\n",
    "def plot_bar(data, x, y, color):\n",
    "\n",
    "    fig = px.bar(data, x, y, color, orientation='v',width=1000)\n",
    "    \n",
    "    fig.update_layout(\n",
    "    plot_bgcolor='white', # clean plot\n",
    "    )\n",
    "    \n",
    "    return fig.show()"
   ]
  }
 ],
 "metadata": {
  "kernelspec": {
   "display_name": "saturn (Python 3)",
   "language": "python",
   "name": "python3"
  },
  "language_info": {
   "codemirror_mode": {
    "name": "ipython",
    "version": 3
   },
   "file_extension": ".py",
   "mimetype": "text/x-python",
   "name": "python",
   "nbconvert_exporter": "python",
   "pygments_lexer": "ipython3",
   "version": "3.7.10"
  }
 },
 "nbformat": 4,
 "nbformat_minor": 5
}
