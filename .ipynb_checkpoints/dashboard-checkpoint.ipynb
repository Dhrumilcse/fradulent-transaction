{
 "cells": [
  {
   "cell_type": "code",
   "execution_count": 1,
   "id": "b2f81a3f",
   "metadata": {},
   "outputs": [],
   "source": [
    "# Imports\n",
    "import pandas as pd\n",
    "\n",
    "# Dependencies (webapp)\n",
    "from ipywidgets import interact\n",
    "import ipywidgets as widgets\n",
    "from io import BytesIO"
   ]
  },
  {
   "cell_type": "code",
   "execution_count": 2,
   "id": "7c705d4f",
   "metadata": {},
   "outputs": [
    {
     "data": {
      "application/vnd.jupyter.widget-view+json": {
       "model_id": "f95eab7fbf414e7b967ca96ed1e28a24",
       "version_major": 2,
       "version_minor": 0
      },
      "text/plain": [
       "Output()"
      ]
     },
     "metadata": {},
     "output_type": "display_data"
    }
   ],
   "source": [
    "# Initialize outputs\n",
    "# Upload file and Upload button\n",
    "upload_btn_output = widgets.Output()\n",
    "display(upload_btn_output)"
   ]
  },
  {
   "cell_type": "code",
   "execution_count": 3,
   "id": "cf3be03c",
   "metadata": {},
   "outputs": [
    {
     "data": {
      "application/vnd.jupyter.widget-view+json": {
       "model_id": "21ea98f682a343fd8d1b3a794a24e2bc",
       "version_major": 2,
       "version_minor": 0
      },
      "text/plain": [
       "HBox(children=(FileUpload(value={}, description='Upload'), Button(button_style='success', description='Upload …"
      ]
     },
     "metadata": {},
     "output_type": "display_data"
    }
   ],
   "source": [
    "#Event handler for upload button\n",
    "def upload_btn_eventhandler(obj):\n",
    "    \n",
    "    #Clear output before each run\n",
    "    with data_process_output:\n",
    "        clear_output()\n",
    "    \n",
    "    #Read file\n",
    "    for file_name in upload_file.value:\n",
    "        \n",
    "        #Split file name to extract data\n",
    "        extension = file_name.split('.')[1]\n",
    "        content = upload_file.value[file_name]['content']\n",
    "\n",
    "        if(extension == 'xlsx' or extension == 'xls'):\n",
    "            data = pd.read_excel(BytesIO(content))\n",
    "            \n",
    "        elif(extension == 'csv'):\n",
    "            data = pd.read_csv(BytesIO(content))\n",
    "        \n",
    "        else:\n",
    "            print(\"File not accepted\")\n",
    "            \n",
    "    # Calling another function to filter data (next step)\n",
    "    # filter_data(data)\n",
    "\n",
    "    return data\n",
    "\n",
    "# Buttons\n",
    "upload_file = widgets.FileUpload(multiple=False)\n",
    "upload_btn = widgets.Button(description=\"Upload\", icon='check', button_style='success')\n",
    "upload_btn.on_click(upload_btn_eventhandler)\n",
    "input_widgets = widgets.HBox([upload_file, upload_btn])\n",
    "with upload_btn_output:\n",
    "    display(input_widgets)"
   ]
  },
  {
   "cell_type": "code",
   "execution_count": null,
   "id": "8a307a10",
   "metadata": {},
   "outputs": [],
   "source": []
  }
 ],
 "metadata": {
  "kernelspec": {
   "display_name": "Python 3",
   "language": "python",
   "name": "python3"
  },
  "language_info": {
   "codemirror_mode": {
    "name": "ipython",
    "version": 3
   },
   "file_extension": ".py",
   "mimetype": "text/x-python",
   "name": "python",
   "nbconvert_exporter": "python",
   "pygments_lexer": "ipython3",
   "version": "3.9.5"
  }
 },
 "nbformat": 4,
 "nbformat_minor": 5
}
